{
 "cells": [
  {
   "cell_type": "code",
   "execution_count": 2,
   "metadata": {
    "collapsed": false
   },
   "outputs": [
    {
     "name": "stdout",
     "output_type": "stream",
     "text": [
      "The Cython extension is already loaded. To reload it, use:\n  %reload_ext Cython\n"
     ]
    }
   ],
   "source": [
    "%load_ext Cython\n"
   ]
  },
  {
   "cell_type": "code",
   "execution_count": 1,
   "metadata": {},
   "outputs": [],
   "source": [
    "%reload_ext Cython\n"
   ]
  },
  {
   "cell_type": "code",
   "execution_count": 1,
   "metadata": {},
   "outputs": [
    {
     "data": {
      "text/plain": [
       "28160"
      ]
     },
     "execution_count": 1,
     "metadata": {},
     "output_type": "execute_result"
    }
   ],
   "source": [
    "import cairo\n",
    "\n",
    "VENDOR_ID = 0x046d\n",
    "PRODUCT_ID = 0xc21c\n",
    "INTERFACE = 0\n",
    "MODE_LED_CONTROL = 0x301 # Could be 0x302?\n",
    "COLOR_CONTROL = 0x301 # Could be 0x307?\n",
    "KEY_ENDPOINT = 1\n",
    "REPORT_SIZE = 8\n",
    "#REQUEST_TYPE = libusb1.LIBUSB_TYPE_CLASS | libusb1.libusb_request_recipient.get('LIBUSB_RECIPIENT_INTERFACE')\n",
    "\n",
    "LCD_WIDTH = 160  # X\n",
    "LCD_HEIGHT = 44  # Y\n",
    "\n",
    "lcd_surface = cairo.ImageSurface(cairo.FORMAT_RGB24, LCD_WIDTH, LCD_HEIGHT)\n",
    "lcd_context = cairo.Context(lcd_surface)\n",
    "lcd_context.set_source_rgb(1, 1, 1)\n",
    "lcd_context.select_font_face('Verdana')\n",
    "lcd_context.set_font_size(35)\n",
    "lcd_surface_buffer = lcd_surface.get_data()\n",
    "\n",
    "def reset(context, text):\n",
    "    context.set_operator(cairo.OPERATOR_CLEAR)\n",
    "    context.paint()\n",
    "    context.show_text(text)\n",
    "\n",
    "len(lcd_surface_buffer)\n",
    "\n"
   ]
  },
  {
   "cell_type": "code",
   "execution_count": 5,
   "metadata": {},
   "outputs": [],
   "source": [
    "reset(lcd_context, 'google')\n",
    "lcd_surface.write_to_png('blahblah.png')\n",
    "\n"
   ]
  },
  {
   "cell_type": "code",
   "execution_count": 5,
   "metadata": {},
   "outputs": [],
   "source": [
    "def set_color(handle, color, color_control, request_type):\n",
    "    data = ''.join(map(chr, [7, color[0], color[1], color[2], 0]))\n",
    "    handle.controlWrite(\n",
    "        request_type=request_type, request=9,\n",
    "        value=color_control, index=0, data=data.encode(),\n",
    "        timeout=1000)"
   ]
  },
  {
   "cell_type": "code",
   "execution_count": 19,
   "metadata": {},
   "outputs": [
    {
     "name": "stdout",
     "output_type": "stream",
     "text": [
      "\u0007ddd\u0000\nb'\\x07ddd\\x00'\n"
     ]
    }
   ],
   "source": [
    ""
   ]
  },
  {
   "cell_type": "code",
   "execution_count": 13,
   "metadata": {},
   "outputs": [],
   "source": [
    "%%cython\n",
    "\n",
    "cimport cython\n",
    "import cairo\n",
    "from cpython.array cimport array\n",
    "from cpython.buffer cimport PyObject_GetBuffer\n",
    "\n",
    "cdef inline _rgb_r(unsigned int pixel_value):\n",
    "    #define RGB_R(x) ((x&0x00FF0000) >> 16)\n",
    "    return pixel_value & 0x00FF0000 >> 16\n",
    "\n",
    "cdef inline _rgb_g(unsigned int pixel_value):\n",
    "    #define RGB_G(x) ((x&0x0000FF00) >> 8)\n",
    "    return pixel_value & 0x0000FF00 >> 8\n",
    "\n",
    "cdef inline _rgb_b(unsigned int pixel_value):\n",
    "    #define RGB_B(x) ((x&0x000000FF) >> 0)\n",
    "    return pixel_value & 0x000000FF >> 0\n"
   ]
  },
  {
   "cell_type": "code",
   "execution_count": null,
   "metadata": {},
   "outputs": [],
   "source": [
    "%%cython\n",
    "\n",
    "cimport cython\n",
    "import cairo\n",
    "from cpython.array cimport array\n",
    "from cpython.buffer cimport PyObject_GetBuffer\n",
    "\n",
    "cdef write_disp_matrix(unsigned int width, unsigned int threshold, array surface_buffer):\n",
    "    # calling semantics:\n",
    "    # self.surface = cairo.ImageSurface(cairo.FORMAT_RGB24, g13.LCD_WIDTH, g13.LCD_HEIGHT)\n",
    "    # self.context = cairo.Context(self.surface)\n",
    "    # surface_buffer = cairo.surface.get_data()\n",
    "\n",
    "    cdef unsigned source_len = len(surface_buffer)\n",
    "    cdef Py_buffer* destination_buffer\n",
    "\n",
    "    cdef unsigned row = 0, col = 0\n",
    "    cdef size_t max_iterations\n",
    "    cdef char threshold_byte = threshold\n",
    "\n",
    "    cdef int pixel_index = 0\n",
    "    cdef int pixel_value = 0\n",
    "    cdef bint show_pixel = False\n",
    "    cdef int lcd_idx = 0\n",
    "\n",
    "\n",
    "\n",
    "\n",
    "\n",
    "\n"
   ]
  },
  {
   "cell_type": "code",
   "execution_count": 13,
   "metadata": {},
   "outputs": [],
   "source": [
    "import usb1\n",
    "\n",
    "def open_device():\n",
    "    VENDOR_ID = 0x046d\n",
    "    PRODUCT_ID = 0xc21c\n",
    "    INTERFACE = 0\n",
    "    MODE_LED_CONTROL = 0x301 # Could be 0x302?\n",
    "    COLOR_CONTROL = 0x301 # Could be 0x307?\n",
    "    KEY_ENDPOINT = 1\n",
    "    REPORT_SIZE = 8\n",
    "    #REQUEST_TYPE = libusb1.LIBUSB_TYPE_CLASS | libusb1.libusb_request_recipient.get('LIBUSB_RECIPIENT_INTERFACE')\n",
    "\n",
    "    LCD_WIDTH = 160  # X\n",
    "    LCD_HEIGHT = 44  # Y\n",
    "    \n",
    "    ctx = usb1.USBContext()\n",
    "    dev = ctx.getByVendorIDAndProductID(VENDOR_ID, PRODUCT_ID)\n",
    "\n",
    "    handle = dev.open()\n",
    "    #if platform.system() == 'Linux' and \\\n",
    "        #handle.kernelDriverActive(INTERFACE):\n",
    "    if handle.kernelDriverActive(INTERFACE):\n",
    "            handle.detachKernelDriver(INTERFACE)\n",
    "\n",
    "    handle.claimInterface(INTERFACE)\n",
    "    return ctx, handle\n"
   ]
  },
  {
   "cell_type": "code",
   "execution_count": 3,
   "metadata": {},
   "outputs": [],
   "source": [
    "def close_device(context, handle):\n",
    "    handle.releaseInterface(INTERFACE)\n",
    "    handle.close()\n",
    "    context.exit()\n"
   ]
  },
  {
   "cell_type": "code",
   "execution_count": 8,
   "metadata": {},
   "outputs": [],
   "source": [
    ""
   ]
  },
  {
   "cell_type": "code",
   "execution_count": 14,
   "metadata": {},
   "outputs": [],
   "source": [
    "request_mask = usb1.REQUEST_TYPE_CLASS | usb1.RECIPIENT_INTERFACE\n",
    "device = open_device()"
   ]
  },
  {
   "cell_type": "code",
   "execution_count": null,
   "metadata": {},
   "outputs": [
    {
     "data": {
      "text/plain": [
       "33"
      ]
     },
     "execution_count": 29,
     "metadata": {},
     "output_type": "execute_result"
    }
   ],
   "source": [
    ""
   ]
  },
  {
   "cell_type": "code",
   "execution_count": null,
   "metadata": {},
   "outputs": [],
   "source": [
    ""
   ]
  }
 ],
 "metadata": {
  "kernelspec": {
   "display_name": "Python 2",
   "language": "python",
   "name": "python2"
  },
  "language_info": {
   "codemirror_mode": {
    "name": "ipython",
    "version": 2
   },
   "file_extension": ".py",
   "mimetype": "text/x-python",
   "name": "python",
   "nbconvert_exporter": "python",
   "pygments_lexer": "ipython2",
   "version": "2.7.6"
  }
 },
 "nbformat": 4,
 "nbformat_minor": 0
}
